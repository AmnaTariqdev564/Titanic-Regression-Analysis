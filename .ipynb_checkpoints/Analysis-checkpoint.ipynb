{
 "cells": [
  {
   "cell_type": "code",
   "execution_count": 113,
   "id": "3ce7b350-a4d5-4cf6-8bb1-986069229a53",
   "metadata": {},
   "outputs": [
    {
     "name": "stdin",
     "output_type": "stream",
     "text": [
      "Enter the target column (default is 'GrLivArea'):  GrLivArea\n"
     ]
    },
    {
     "name": "stdout",
     "output_type": "stream",
     "text": [
      "Root Mean Squared Error: 59.88612922278139\n"
     ]
    }
   ],
   "source": [
    "# Import necessary libraries\n",
    "import pandas as pd\n",
    "import numpy as np\n",
    "from sklearn.model_selection import train_test_split\n",
    "from sklearn.preprocessing import LabelEncoder, StandardScaler\n",
    "from sklearn.ensemble import RandomForestRegressor\n",
    "from sklearn.metrics import mean_squared_error\n",
    "\n",
    "# Load the dataset\n",
    "data = pd.read_csv('test.csv')\n",
    "\n",
    "# Step 1: Handle Missing Values\n",
    "# Drop columns with more than 50% missing values\n",
    "data = data.dropna(thresh=data.shape[0] * 0.5, axis=1)\n",
    "\n",
    "# Fill remaining missing values\n",
    "for column in data.select_dtypes(include=['object']).columns:\n",
    "    data[column] = data[column].fillna(data[column].mode()[0])\n",
    "for column in data.select_dtypes(include=['float64', 'int64']).columns:\n",
    "    data[column] = data[column].fillna(data[column].mean())\n",
    "\n",
    "# Step 2: Encode Categorical Variables\n",
    "label_encoders = {}\n",
    "for column in data.select_dtypes(include=['object']).columns:\n",
    "    le = LabelEncoder()\n",
    "    data[column] = le.fit_transform(data[column])\n",
    "    label_encoders[column] = le\n",
    "\n",
    "# Step 3: Feature Scaling\n",
    "scaler = StandardScaler()\n",
    "scaled_features = scaler.fit_transform(data.select_dtypes(include=['float64', 'int64']))\n",
    "data_scaled = pd.DataFrame(scaled_features, columns=data.select_dtypes(include=['float64', 'int64']).columns)\n",
    "\n",
    "# Step 4: Split the Dataset\n",
    "# Allow user to specify the target variable\n",
    "default_target_column = 'GrLivArea'  # Replace with your preferred default target column\n",
    "target_column = input(f\"Enter the target column (default is '{default_target_column}'): \") or default_target_column\n",
    "\n",
    "if target_column in data.columns:\n",
    "    X = data_scaled.drop(target_column, axis=1)\n",
    "    y = data[target_column]\n",
    "else:\n",
    "    print(\"Target column not found. Available columns:\")\n",
    "    print(data.columns.tolist())\n",
    "    raise ValueError(f\"Target column '{target_column}' not found. Please specify the correct target column from the list above.\")\n",
    "\n",
    "X_train, X_test, y_train, y_test = train_test_split(X, y, test_size=0.2, random_state=42)\n",
    "\n",
    "# Step 5: Train a Model\n",
    "model = RandomForestRegressor(random_state=42)\n",
    "model.fit(X_train, y_train)\n",
    "\n",
    "# Step 6: Evaluate the Model\n",
    "y_pred = model.predict(X_test)\n",
    "mse = mean_squared_error(y_test, y_pred)\n",
    "rmse = np.sqrt(mse)\n",
    "\n",
    "print(\"Root Mean Squared Error:\", rmse)\n"
   ]
  },
  {
   "cell_type": "code",
   "execution_count": null,
   "id": "8c40d0e2-e44c-41af-8521-79c74baaf2e5",
   "metadata": {},
   "outputs": [],
   "source": []
  },
  {
   "cell_type": "code",
   "execution_count": null,
   "id": "6086d3af-a2c2-4538-97c8-adccfcb3c969",
   "metadata": {},
   "outputs": [],
   "source": []
  }
 ],
 "metadata": {
  "kernelspec": {
   "display_name": "Python 3 (ipykernel)",
   "language": "python",
   "name": "python3"
  },
  "language_info": {
   "codemirror_mode": {
    "name": "ipython",
    "version": 3
   },
   "file_extension": ".py",
   "mimetype": "text/x-python",
   "name": "python",
   "nbconvert_exporter": "python",
   "pygments_lexer": "ipython3",
   "version": "3.12.7"
  }
 },
 "nbformat": 4,
 "nbformat_minor": 5
}
